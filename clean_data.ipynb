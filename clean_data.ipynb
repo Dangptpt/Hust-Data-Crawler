{
 "cells": [
  {
   "cell_type": "code",
   "execution_count": 3,
   "metadata": {},
   "outputs": [],
   "source": [
    "import pandas as pd\n",
    "from utils.pdf import extract_text_from_url, read_table\n",
    "import os\n",
    "import uuid\n",
    "from pdfminer.high_level import extract_text\n",
    "import re\n",
    "df = pd.read_csv('raw_data/quyche.csv')"
   ]
  },
  {
   "cell_type": "code",
   "execution_count": 1,
   "metadata": {},
   "outputs": [
    {
     "name": "stderr",
     "output_type": "stream",
     "text": [
      "Failed to import jpype dependencies. Fallback to subprocess.\n",
      "No module named 'jpype'\n"
     ]
    }
   ],
   "source": [
    "from tabula import read_pdf\n",
    " \n",
    "#reads table from pdf file\n",
    "tables = read_pdf(\"pdf_files/QD_ngoai_ngu_tu_K68_CQ_final.pdf\",pages=\"all\") #address of pdf file"
   ]
  },
  {
   "cell_type": "code",
   "execution_count": 15,
   "metadata": {},
   "outputs": [
    {
     "name": "stdout",
     "output_type": "stream",
     "text": [
      "| Số tín chỉ tích lũy   | Trình độ tiếng Anh yêu cầu                         |\n",
      "|:----------------------|:---------------------------------------------------|\n",
      "| Đến 63TC              | + Đạt tất cả học phần Tiếng Anh cơ sở gồm: FL1131, |\n",
      "| nan                   | FL1132, FL1133                                     |\n",
      "| nan                   | + Hoặc đạt tối thiểu Bậc 2.1                       |\n"
     ]
    }
   ],
   "source": [
    "for table in tables[3:]:\n",
    "    # for index, row in table.iterrows():\n",
    "    #     print(row)\n",
    "    #     print('-----------------')\n",
    "    # table = table.drop(table.columns[0], axis=1)\n",
    "    print(table.to_markdown(index=False))\n",
    "    break\n"
   ]
  },
  {
   "cell_type": "code",
   "execution_count": 6,
   "metadata": {},
   "outputs": [],
   "source": [
    "for row, item in df.iterrows():\n",
    "    clean_text = ''\n",
    "    data = item['content']\n",
    "    parts = re.split(r'Điều \\d+\\.\\s', data)\n",
    "    for index, part in enumerate(parts):\n",
    "        part = part.strip()\n",
    "        if part == '':\n",
    "            continue\n",
    "        clean_text += 'Điều ' + str(index) + '.'\n",
    "        docs = part.split('\\n')\n",
    "        for doc in docs:\n",
    "            doc = doc.strip()\n",
    "            if doc == '':\n",
    "                continue\n",
    "            if not doc[0].isdigit() and not doc[0].islower() and not doc[0].isupper():\n",
    "                continue \n",
    "            doc = doc.replace('  ', ' ')\n",
    "            pattern = r'^\\d+\\.'\n",
    "            pattern2 = r'^[A-Za-z]\\)'\n",
    "            if re.match(pattern, doc):\n",
    "                clean_text += '\\n' + doc\n",
    "            elif re.match(pattern2, doc):\n",
    "                clean_text += '\\n' + doc\n",
    "            else:\n",
    "                clean_text += ' ' + doc\n",
    "        clean_text += '\\n\\n'\n",
    "    name = item['title']\n",
    "    if name == 'Quy định ngoại ngữ':\n",
    "        with open(f'clean_data/{name}.txt', 'w', encoding='utf-8') as f:\n",
    "            f.write(clean_text)"
   ]
  }
 ],
 "metadata": {
  "kernelspec": {
   "display_name": ".venv",
   "language": "python",
   "name": "python3"
  },
  "language_info": {
   "codemirror_mode": {
    "name": "ipython",
    "version": 3
   },
   "file_extension": ".py",
   "mimetype": "text/x-python",
   "name": "python",
   "nbconvert_exporter": "python",
   "pygments_lexer": "ipython3",
   "version": "3.11.3"
  }
 },
 "nbformat": 4,
 "nbformat_minor": 2
}
