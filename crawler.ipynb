{
 "cells": [
  {
   "cell_type": "code",
   "execution_count": 9,
   "metadata": {},
   "outputs": [],
   "source": [
    "from bs4 import BeautifulSoup\n",
    "import requests\n",
    "import re\n",
    "import csv\n",
    "import pandas as pd"
   ]
  },
  {
   "cell_type": "code",
   "execution_count": 23,
   "metadata": {},
   "outputs": [],
   "source": [
    "response = requests.post('https://ctsv.hust.edu.vn/api-t/HWAdmin/GetWebTitleLst', \n",
    "                         data={\"user_name\": \"20210150\"})\n",
    "data_csv = []\n",
    "if response.status_code == 200:\n",
    "    data = response.json()\n",
    "    items = data['WebTitleLst']\n",
    "    for item in items:\n",
    "        title = item['Title']\n",
    "        type_doc = item['TypeDoc']\n",
    "        html = item['Description']\n",
    "        cleaned_text = ''\n",
    "        soup = BeautifulSoup(html, 'html.parser')\n",
    "        cleaned_text = soup.get_text(separator='\\n')\n",
    "        cleaned_text = re.sub(r'\\s*\\n\\s*', '\\n', cleaned_text).strip()\n",
    "        data_csv.append({\n",
    "            'title': title,\n",
    "            'type_doc': type_doc,\n",
    "            'content': cleaned_text,\n",
    "            'html': html\n",
    "        })\n",
    "\n",
    "    with open('raw_data/ctsv.csv', 'w', encoding='utf-8') as file:\n",
    "        writer = csv.DictWriter(file, fieldnames=['title', 'type_doc', 'content', 'html'])\n",
    "        writer.writeheader()\n",
    "        writer.writerows(data_csv)"
   ]
  }
 ],
 "metadata": {
  "kernelspec": {
   "display_name": ".venv",
   "language": "python",
   "name": "python3"
  },
  "language_info": {
   "codemirror_mode": {
    "name": "ipython",
    "version": 3
   },
   "file_extension": ".py",
   "mimetype": "text/x-python",
   "name": "python",
   "nbconvert_exporter": "python",
   "pygments_lexer": "ipython3",
   "version": "3.11.3"
  }
 },
 "nbformat": 4,
 "nbformat_minor": 2
}
